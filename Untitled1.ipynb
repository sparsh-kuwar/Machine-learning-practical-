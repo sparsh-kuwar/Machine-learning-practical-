{
 "cells": [
  {
   "cell_type": "code",
   "execution_count": null,
   "id": "33cb9bc1-8c6d-43d9-8535-8fe845027777",
   "metadata": {},
   "outputs": [],
   "source": [
    "import pandas as pd\n",
    "import numpy as np\n",
    "import matplotlib.pyplot as plt\n",
    "from sklearn.linear_model import LogisticRegression\n",
    "\n",
    "# ---- Load dataset ----\n",
    "data = pd.read_csv(\"medication_data.csv\")\n",
    "\n",
    "# Calculate Probability and Log Odds\n",
    "data[\"Probability\"] = data[\"#Cured\"] / data[\"TotalPatients\"]\n",
    "data[\"Odds\"] = data[\"Probability\"] / (1 - data[\"Probability\"])\n",
    "data[\"LogOdds\"] = np.log(data[\"Odds\"])\n",
    "\n",
    "print(\"Dataset with Calculations:\")\n",
    "print(data)\n",
    "\n",
    "# ---- Prepare features and target ----\n",
    "X = data[\"Dosage\"].values.reshape(-1, 1)\n",
    "y = data[\"Probability\"].values\n",
    "\n",
    "# Convert probabilities into binary outcomes for logistic regression\n",
    "# We replicate each patient’s outcome for better fitting\n",
    "X_expanded = []\n",
    "y_expanded = []\n",
    "for dosage, cured, total in zip(data[\"Dosage\"], data[\"#Cured\"], data[\"TotalPatients\"]):\n",
    "    X_expanded.extend([dosage] * total)\n",
    "    y_expanded.extend([1] * cured + [0] * (total - cured))\n",
    "\n",
    "X_expanded = np.array(X_expanded).reshape(-1, 1)\n",
    "y_expanded = np.array(y_expanded)\n",
    "\n",
    "# ---- Logistic Regression Model ----\n",
    "model = LogisticRegression()\n",
    "model.fit(X_expanded, y_expanded)\n",
    "\n",
    "# Predict probabilities over a range\n",
    "X_range = np.linspace(10, 60, 100).reshape(-1, 1)\n",
    "probs = model.predict_proba(X_range)[:, 1]\n",
    "\n",
    "# ---- Plot ----\n",
    "plt.figure(figsize=(10, 5))\n",
    "\n",
    "# Subplot 1: Log Odds vs Dosage\n",
    "plt.subplot(1, 2, 1)\n",
    "plt.scatter(data[\"Dosage\"], data[\"LogOdds\"], color=\"blue\")\n",
    "plt.plot(X_range, model.coef_[0][0] * X_range + model.intercept_[0], color=\"red\")\n",
    "plt.xlabel(\"Dosage\")\n",
    "plt.ylabel(\"Log Odds\")\n",
    "plt.title(\"Log Odds Regression\")\n",
    "\n",
    "# Subplot 2: Probability vs Dosage\n",
    "plt.subplot(1, 2, 2)\n",
    "plt.scatter(data[\"Dosage\"], data[\"Probability\"], color=\"blue\")\n",
    "plt.plot(X_range, probs, color=\"green\")\n",
    "plt.xlabel(\"Dosage\")\n",
    "plt.ylabel(\"Probability Cured\")\n",
    "plt.title(\"Sigmoid Curve\")\n",
    "\n",
    "plt.tight_layout()\n",
    "plt.show()"
   ]
  },
  {
   "cell_type": "code",
   "execution_count": null,
   "id": "c9d08e64-1037-49d6-a537-4299c4503ee1",
   "metadata": {},
   "outputs": [],
   "source": []
  },
  {
   "cell_type": "code",
   "execution_count": null,
   "id": "fb06f34d-7ae1-4627-8258-13500af50963",
   "metadata": {},
   "outputs": [],
   "source": []
  },
  {
   "cell_type": "code",
   "execution_count": null,
   "id": "09537cbf-02e3-4ab7-8622-c57c93ae6d2c",
   "metadata": {},
   "outputs": [],
   "source": []
  }
 ],
 "metadata": {
  "kernelspec": {
   "display_name": "Python 3 (ipykernel)",
   "language": "python",
   "name": "python3"
  },
  "language_info": {
   "codemirror_mode": {
    "name": "ipython",
    "version": 3
   },
   "file_extension": ".py",
   "mimetype": "text/x-python",
   "name": "python",
   "nbconvert_exporter": "python",
   "pygments_lexer": "ipython3",
   "version": "3.13.5"
  }
 },
 "nbformat": 4,
 "nbformat_minor": 5
}
